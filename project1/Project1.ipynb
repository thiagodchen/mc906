{
 "cells": [
  {
   "cell_type": "markdown",
   "metadata": {},
   "source": [
    "# Project 1 - Search problem\n",
    "---\n",
    "\n",
    "Using AIMA library (https://github.com/aimacode/aima-python/blob/master/search.ipynb), we need to to move the robot from initial position to final position, without collide with the wall.  \n",
    "\n",
    "The environment is known and deterministic.  \n",
    "\n",
    "Robot position (x, y)"
   ]
  },
  {
   "cell_type": "code",
   "execution_count": 1,
   "metadata": {},
   "outputs": [],
   "source": [
    "from search import *\n",
    "from notebook import psource, heatmap, gaussian_kernel, show_map, final_path_colors, display_visual, plot_NQueens\n",
    "\n",
    "# Needed to hide warnings in the matplotlib sections\n",
    "import warnings\n",
    "warnings.filterwarnings(\"ignore\")"
   ]
  },
  {
   "cell_type": "code",
   "execution_count": 2,
   "metadata": {},
   "outputs": [],
   "source": [
    "%matplotlib inline\n",
    "import networkx as nx\n",
    "import matplotlib.pyplot as plt\n",
    "from matplotlib import lines\n",
    "\n",
    "from ipywidgets import interact\n",
    "import ipywidgets as widgets\n",
    "from IPython.display import display\n",
    "import time\n",
    "\n",
    "import numpy as np\n",
    "import os\n",
    "from used_search import *"
   ]
  },
  {
   "cell_type": "code",
   "execution_count": 3,
   "metadata": {},
   "outputs": [],
   "source": [
    "if not os.path.exists('img'):\n",
    "    os.makedirs('img')"
   ]
  },
  {
   "cell_type": "markdown",
   "metadata": {},
   "source": [
    "# Modeling the env\n",
    "---\n",
    "0 < x < 60  \n",
    "0 < y < 60\n",
    "\n",
    "up:    state[1] + step  \n",
    "down:  state[1] - step  \n",
    "left:  state[0] - step  \n",
    "right: state[0] + step"
   ]
  },
  {
   "cell_type": "code",
   "execution_count": 4,
   "metadata": {},
   "outputs": [],
   "source": [
    "roam_globalset = set()"
   ]
  },
  {
   "cell_type": "code",
   "execution_count": 5,
   "metadata": {},
   "outputs": [],
   "source": [
    "class SimpleSearchProblem(Problem):\n",
    "    def __init__(self, step=1):\n",
    "        self.initial = (10,10)\n",
    "        self.goal = (50,50)\n",
    "        self.step = step\n",
    "#         self.explored = set()\n",
    "        \n",
    "        \n",
    "    def actions(self, state):\n",
    "        # save expanded nodes\n",
    "        roam_globalset.add(state)\n",
    "        \n",
    "        up = state[1] + self.step\n",
    "        down = state[1] - self.step\n",
    "        left = state[0] - self.step\n",
    "        right = state[0] + self.step\n",
    "        \n",
    "        # can go only up\n",
    "        if (state[0] < 20 and state[1] <= 40 and down <= 0 and left <= 0 and right >= 20):\n",
    "            return iter([(state[0], up)])\n",
    "        # can go only down\n",
    "        elif (state[0] > 40 and state[1] >= 20 and up >= 60 and left <= 40 and right >= 60):\n",
    "            return iter([(state[0], down)])\n",
    "        \n",
    "        # can go up and down\n",
    "        elif (state[0] < 20 and state[1] <= 40 and left <= 0 and right >= 20) or \\\n",
    "                (20 < state[0] and state[0] < 40 and state[1] >= 20 and state[1] <= 40 and left <= 20 and right >= 40) or \\\n",
    "                 (state[0] > 40 and state[1] > 20 and left <= 40 and right >= 60):\n",
    "            return iter([(state[0], up), (state[0], down)])\n",
    "        # can go up and left\n",
    "        elif (down <= 0 and right >= 60) or \\\n",
    "                (state[0] < 20 and down <= 0 and right >= 20):\n",
    "            return iter([(state[0], up), (left, state[1])])\n",
    "        # can go up and right\n",
    "        elif (down <= 0 and left <= 0) or (state[0] > 20 and down <= 0 and right <= 20):\n",
    "            return iter([(state[0], up), (right, state[1])])\n",
    "        # can go left and right\n",
    "        elif (state[0] == 20 and state[1] > 40) or (state[0] == 40 and state[1] < 20):\n",
    "            return iter([(left, state[1]), (right, state[1])])\n",
    "        # can go left and down\n",
    "        elif (up >= 60 and right >= 60) or \\\n",
    "                (state[0] < 40 and state[1] >= 20 and right >= 40):\n",
    "            return iter([(left, state[1]), (state[0], down)])\n",
    "        # can go right and down\n",
    "        elif (up >= 60 and left <= 0) or \\\n",
    "                (state[0] > 40 and state[1] >= 20 and left <= 20):\n",
    "            return iter([(right, state[1]), (state[0], down)])\n",
    "        \n",
    "        # _dlr\n",
    "        elif up >= 60:\n",
    "            return iter([(state[0], down), (left, state[1]), (right, state[1])])\n",
    "        # u_lr\n",
    "        elif down <= 0:\n",
    "            return iter([(state[0], up), (left, state[1]), (right, state[1])])\n",
    "        # ud_r\n",
    "        elif (left <= 0) or \\\n",
    "                (state[0] > 20 and state[1] >= 20 and left <= 40) or \\\n",
    "                (state[0] > 20 and state[0] < 40 and state[1] <= 40 and left <= 20):\n",
    "            return iter([(state[0], up), (state[0], down), (right, state[1])])\n",
    "        # udl_\n",
    "        elif (right >= 60) or \\\n",
    "                (state[0] < 20 and state[1] <= 40 and right >= 20) or \\\n",
    "                (state[0] > 20 and state[0] < 40 and state[1] >= 20 and right >= 40):\n",
    "            return iter([(state[0], up), (state[0], down), (left, state[1])])\n",
    "        # no restriction\n",
    "        else:\n",
    "#             print('NOOOOOOOOO')\n",
    "            return iter([(state[0], up), (state[0], down), (left, state[1]), \\\n",
    "                   (right, state[1])])\n",
    "        \n",
    "    def result(self, state, action):\n",
    "        return action\n",
    "\n",
    "    def path_cost(self, c, state1, action, state2):\n",
    "        return c+1\n",
    "\n",
    "    def goal_test(self, state):\n",
    "        if state == (50,50):\n",
    "            return True\n",
    "        else:\n",
    "            return False        "
   ]
  },
  {
   "cell_type": "markdown",
   "metadata": {},
   "source": [
    "## Uninformed Search Strategies"
   ]
  },
  {
   "cell_type": "markdown",
   "metadata": {},
   "source": [
    "### 1) Uniform Cost Search"
   ]
  },
  {
   "cell_type": "code",
   "execution_count": 6,
   "metadata": {},
   "outputs": [],
   "source": [
    "for i in [1, 2, 5, 10]:\n",
    "    roam_globalset.clear()\n",
    "    \n",
    "    search_problem = SimpleSearchProblem(i)\n",
    "\n",
    "    ucs = uniform_cost_search(search_problem).solution()\n",
    "\n",
    "    color = '#aaaaaa'\n",
    "    linewidth = 4\n",
    "    plt.plot(np.linspace(0,60,200), np.zeros(200), color, linewidth=linewidth)\n",
    "    plt.plot(np.linspace(0,60,200), np.ones(200)*60, color, linewidth=linewidth)\n",
    "    plt.plot(np.zeros(200), np.linspace(0,60,200) , color ,linewidth=linewidth)\n",
    "    plt.plot(np.ones(200)*60, np.linspace(0,60,200) , color, linewidth=linewidth)\n",
    "    plt.plot(np.ones(200)*40, np.linspace(60,20,200) , color, linewidth=linewidth)\n",
    "    plt.plot(np.ones(200)*20, np.linspace(0,40,200) , color, linewidth=linewidth)\n",
    "\n",
    "    plt.scatter(10,10, marker='x', color='g', s=200)\n",
    "    plt.scatter(50,50, marker='*', color='r', s=200)\n",
    "    plt.title('Uniform Cost Search')\n",
    "    plt.scatter(*zip(*ucs))\n",
    "    plt.scatter(*zip(*roam_globalset), alpha=0.1, color='g')\n",
    "    plt.savefig('img/ucs_' + str(i) + '.png')\n",
    "    plt.close()"
   ]
  },
  {
   "cell_type": "markdown",
   "metadata": {},
   "source": [
    "### 2) Depth First Search"
   ]
  },
  {
   "cell_type": "code",
   "execution_count": 7,
   "metadata": {},
   "outputs": [],
   "source": [
    "for i in [1, 2, 5, 10]:\n",
    "    \n",
    "    roam_globalset.clear()\n",
    "    search_problem = SimpleSearchProblem(i)\n",
    "\n",
    "    dfs = depth_first_graph_search(search_problem).solution()\n",
    "\n",
    "    color = '#aaaaaa'\n",
    "    linewidth = 4\n",
    "    plt.plot(np.linspace(0,60,200), np.zeros(200), color, linewidth=linewidth)\n",
    "    plt.plot(np.linspace(0,60,200), np.ones(200)*60, color, linewidth=linewidth)\n",
    "    plt.plot(np.zeros(200), np.linspace(0,60,200) , color ,linewidth=linewidth)\n",
    "    plt.plot(np.ones(200)*60, np.linspace(0,60,200) , color, linewidth=linewidth)\n",
    "    plt.plot(np.ones(200)*40, np.linspace(60,20,200) , color, linewidth=linewidth)\n",
    "    plt.plot(np.ones(200)*20, np.linspace(0,40,200) , color, linewidth=linewidth)\n",
    "\n",
    "    plt.scatter(10,10, marker='x', color='g', s=200)\n",
    "    plt.scatter(50,50, marker='*', color='r', s=200)\n",
    "    plt.title('Depth First Search')\n",
    "    plt.scatter(*zip(*dfs))\n",
    "    plt.scatter(*zip(*roam_globalset), alpha=0.1, color='g')\n",
    "    plt.savefig('img/dfs_' + str(i) + '.png')\n",
    "    plt.close()\n"
   ]
  },
  {
   "cell_type": "markdown",
   "metadata": {},
   "source": [
    "## Informed (Heuristic) Search Strategies"
   ]
  },
  {
   "cell_type": "markdown",
   "metadata": {},
   "source": [
    "### 1) A* linear"
   ]
  },
  {
   "cell_type": "code",
   "execution_count": 8,
   "metadata": {},
   "outputs": [],
   "source": [
    "for i in [1, 2, 5, 10]:\n",
    "    \n",
    "    roam_globalset.clear()\n",
    "    search_problem = SimpleSearchProblem(i)\n",
    "\n",
    "    astar = astar_search(search_problem, linear).solution()\n",
    "\n",
    "    color = '#aaaaaa'\n",
    "    linewidth = 4\n",
    "    plt.plot(np.linspace(0,60,200), np.zeros(200), color, linewidth=linewidth)\n",
    "    plt.plot(np.linspace(0,60,200), np.ones(200)*60, color, linewidth=linewidth)\n",
    "    plt.plot(np.zeros(200), np.linspace(0,60,200) , color ,linewidth=linewidth)\n",
    "    plt.plot(np.ones(200)*60, np.linspace(0,60,200) , color, linewidth=linewidth)\n",
    "    plt.plot(np.ones(200)*40, np.linspace(60,20,200) , color, linewidth=linewidth)\n",
    "    plt.plot(np.ones(200)*20, np.linspace(0,40,200) , color, linewidth=linewidth)\n",
    "\n",
    "    plt.scatter(10,10, marker='x', color='g', s=200)\n",
    "    plt.scatter(50,50, marker='*', color='r', s=200)\n",
    "    plt.title('A* Search')\n",
    "    plt.scatter(*zip(*astar))\n",
    "    plt.scatter(*zip(*roam_globalset), alpha=0.1, color='g')\n",
    "    plt.savefig('img/astar_' + str(i) + '.png')\n",
    "    plt.close()\n"
   ]
  },
  {
   "cell_type": "markdown",
   "metadata": {},
   "source": [
    "### 2) A* manhattan"
   ]
  },
  {
   "cell_type": "code",
   "execution_count": 9,
   "metadata": {},
   "outputs": [],
   "source": [
    "for i in [1, 2, 5, 10]:\n",
    "    \n",
    "    roam_globalset.clear()\n",
    "    search_problem = SimpleSearchProblem(i)\n",
    "\n",
    "    astar = astar_search(search_problem, manhattan).solution()\n",
    "\n",
    "    color = '#aaaaaa'\n",
    "    linewidth = 4\n",
    "    plt.plot(np.linspace(0,60,200), np.zeros(200), color, linewidth=linewidth)\n",
    "    plt.plot(np.linspace(0,60,200), np.ones(200)*60, color, linewidth=linewidth)\n",
    "    plt.plot(np.zeros(200), np.linspace(0,60,200) , color ,linewidth=linewidth)\n",
    "    plt.plot(np.ones(200)*60, np.linspace(0,60,200) , color, linewidth=linewidth)\n",
    "    plt.plot(np.ones(200)*40, np.linspace(60,20,200) , color, linewidth=linewidth)\n",
    "    plt.plot(np.ones(200)*20, np.linspace(0,40,200) , color, linewidth=linewidth)\n",
    "\n",
    "    plt.scatter(10,10, marker='x', color='g', s=200)\n",
    "    plt.scatter(50,50, marker='*', color='r', s=200)\n",
    "    plt.title('A* Search')\n",
    "    plt.scatter(*zip(*astar))\n",
    "    plt.scatter(*zip(*roam_globalset), alpha=0.1, color='g')\n",
    "    plt.savefig('img/astar_man' + str(i) + '.png')\n",
    "    plt.close()\n"
   ]
  },
  {
   "cell_type": "markdown",
   "metadata": {},
   "source": [
    "# %%timeit"
   ]
  },
  {
   "cell_type": "markdown",
   "metadata": {},
   "source": [
    "### step = 0.5"
   ]
  },
  {
   "cell_type": "code",
   "execution_count": null,
   "metadata": {},
   "outputs": [],
   "source": [
    "search_problem = SimpleSearchProblem(0.5)"
   ]
  },
  {
   "cell_type": "code",
   "execution_count": null,
   "metadata": {},
   "outputs": [],
   "source": [
    "%%timeit -n1\n",
    "uniform_cost_search(search_problem)"
   ]
  },
  {
   "cell_type": "code",
   "execution_count": null,
   "metadata": {},
   "outputs": [],
   "source": [
    "%%timeit -n1\n",
    "depth_first_graph_search(search_problem)"
   ]
  },
  {
   "cell_type": "code",
   "execution_count": null,
   "metadata": {},
   "outputs": [],
   "source": [
    "%%timeit -n1\n",
    "astar_search(search_problem, linear)"
   ]
  },
  {
   "cell_type": "code",
   "execution_count": null,
   "metadata": {},
   "outputs": [],
   "source": [
    "%%timeit -n1\n",
    "astar_search(search_problem, manhattan)"
   ]
  },
  {
   "cell_type": "markdown",
   "metadata": {},
   "source": [
    "### step = 1"
   ]
  },
  {
   "cell_type": "code",
   "execution_count": 10,
   "metadata": {},
   "outputs": [],
   "source": [
    "search_problem = SimpleSearchProblem(1)"
   ]
  },
  {
   "cell_type": "code",
   "execution_count": 11,
   "metadata": {},
   "outputs": [
    {
     "name": "stdout",
     "output_type": "stream",
     "text": [
      "198 ms ± 8.59 ms per loop (mean ± std. dev. of 7 runs, 1 loop each)\n"
     ]
    }
   ],
   "source": [
    "%%timeit -n1\n",
    "uniform_cost_search(search_problem)"
   ]
  },
  {
   "cell_type": "code",
   "execution_count": 12,
   "metadata": {},
   "outputs": [
    {
     "name": "stdout",
     "output_type": "stream",
     "text": [
      "779 ms ± 56.9 ms per loop (mean ± std. dev. of 7 runs, 1 loop each)\n"
     ]
    }
   ],
   "source": [
    "%%timeit -n1\n",
    "depth_first_graph_search(search_problem)"
   ]
  },
  {
   "cell_type": "code",
   "execution_count": 13,
   "metadata": {},
   "outputs": [
    {
     "name": "stdout",
     "output_type": "stream",
     "text": [
      "255 ms ± 42.6 ms per loop (mean ± std. dev. of 7 runs, 1 loop each)\n"
     ]
    }
   ],
   "source": [
    "%%timeit -n1\n",
    "astar_search(search_problem, linear)"
   ]
  },
  {
   "cell_type": "code",
   "execution_count": 14,
   "metadata": {},
   "outputs": [
    {
     "name": "stdout",
     "output_type": "stream",
     "text": [
      "287 ms ± 9.76 ms per loop (mean ± std. dev. of 7 runs, 1 loop each)\n"
     ]
    }
   ],
   "source": [
    "%%timeit -n1\n",
    "astar_search(search_problem, manhattan)"
   ]
  },
  {
   "cell_type": "markdown",
   "metadata": {},
   "source": [
    "### step = 2"
   ]
  },
  {
   "cell_type": "code",
   "execution_count": 15,
   "metadata": {},
   "outputs": [],
   "source": [
    "search_problem = SimpleSearchProblem(2)"
   ]
  },
  {
   "cell_type": "code",
   "execution_count": 16,
   "metadata": {},
   "outputs": [
    {
     "name": "stdout",
     "output_type": "stream",
     "text": [
      "24.6 ms ± 1.08 ms per loop (mean ± std. dev. of 7 runs, 10 loops each)\n"
     ]
    }
   ],
   "source": [
    "%%timeit -n10\n",
    "uniform_cost_search(search_problem)"
   ]
  },
  {
   "cell_type": "code",
   "execution_count": 17,
   "metadata": {},
   "outputs": [
    {
     "name": "stdout",
     "output_type": "stream",
     "text": [
      "28.9 ms ± 695 µs per loop (mean ± std. dev. of 7 runs, 10 loops each)\n"
     ]
    }
   ],
   "source": [
    "%%timeit -n10\n",
    "depth_first_graph_search(search_problem)"
   ]
  },
  {
   "cell_type": "code",
   "execution_count": 18,
   "metadata": {},
   "outputs": [
    {
     "name": "stdout",
     "output_type": "stream",
     "text": [
      "29 ms ± 820 µs per loop (mean ± std. dev. of 7 runs, 10 loops each)\n"
     ]
    }
   ],
   "source": [
    "%%timeit -n10\n",
    "astar_search(search_problem, linear)"
   ]
  },
  {
   "cell_type": "code",
   "execution_count": 19,
   "metadata": {},
   "outputs": [
    {
     "name": "stdout",
     "output_type": "stream",
     "text": [
      "32.6 ms ± 858 µs per loop (mean ± std. dev. of 7 runs, 10 loops each)\n"
     ]
    }
   ],
   "source": [
    "%%timeit -n10\n",
    "astar_search(search_problem, manhattan)"
   ]
  },
  {
   "cell_type": "markdown",
   "metadata": {},
   "source": [
    "### step = 5"
   ]
  },
  {
   "cell_type": "code",
   "execution_count": 20,
   "metadata": {},
   "outputs": [],
   "source": [
    "search_problem = SimpleSearchProblem(5)"
   ]
  },
  {
   "cell_type": "code",
   "execution_count": 21,
   "metadata": {},
   "outputs": [
    {
     "name": "stdout",
     "output_type": "stream",
     "text": [
      "1.94 ms ± 214 µs per loop (mean ± std. dev. of 7 runs, 1000 loops each)\n"
     ]
    }
   ],
   "source": [
    "%%timeit -n1000\n",
    "uniform_cost_search(search_problem)"
   ]
  },
  {
   "cell_type": "code",
   "execution_count": 22,
   "metadata": {},
   "outputs": [
    {
     "name": "stdout",
     "output_type": "stream",
     "text": [
      "1.29 ms ± 11.6 µs per loop (mean ± std. dev. of 7 runs, 1000 loops each)\n"
     ]
    }
   ],
   "source": [
    "%%timeit -n1000\n",
    "depth_first_graph_search(search_problem)"
   ]
  },
  {
   "cell_type": "code",
   "execution_count": 23,
   "metadata": {},
   "outputs": [
    {
     "name": "stdout",
     "output_type": "stream",
     "text": [
      "1.95 ms ± 75.7 µs per loop (mean ± std. dev. of 7 runs, 1000 loops each)\n"
     ]
    }
   ],
   "source": [
    "%%timeit -n1000\n",
    "astar_search(search_problem, linear)"
   ]
  },
  {
   "cell_type": "code",
   "execution_count": 24,
   "metadata": {},
   "outputs": [
    {
     "name": "stdout",
     "output_type": "stream",
     "text": [
      "2.06 ms ± 67.2 µs per loop (mean ± std. dev. of 7 runs, 1000 loops each)\n"
     ]
    }
   ],
   "source": [
    "%%timeit -n1000\n",
    "astar_search(search_problem, manhattan)"
   ]
  },
  {
   "cell_type": "markdown",
   "metadata": {},
   "source": [
    "# Generate some images for the report"
   ]
  },
  {
   "cell_type": "code",
   "execution_count": 25,
   "metadata": {},
   "outputs": [],
   "source": [
    "color = '#aaaaaa'\n",
    "linewidth = 4\n",
    "plt.plot(np.linspace(0,60,200), np.zeros(200), color, linewidth=linewidth)\n",
    "plt.plot(np.linspace(0,60,200), np.ones(200)*60, color, linewidth=linewidth)\n",
    "plt.plot(np.zeros(200), np.linspace(0,60,200) , color ,linewidth=linewidth)\n",
    "plt.plot(np.ones(200)*60, np.linspace(0,60,200) , color, linewidth=linewidth)\n",
    "plt.plot(np.ones(200)*40, np.linspace(60,20,200) , color, linewidth=linewidth)\n",
    "plt.plot(np.ones(200)*20, np.linspace(0,40,200) , color, linewidth=linewidth)\n",
    "\n",
    "plt.scatter(10,10, marker='x', color='g', s=200)\n",
    "plt.scatter(50,50, marker='*', color='r', s=200)\n",
    "plt.title('Map')\n",
    "plt.savefig('img/map.png')\n",
    "plt.close()\n"
   ]
  },
  {
   "cell_type": "code",
   "execution_count": null,
   "metadata": {},
   "outputs": [],
   "source": []
  }
 ],
 "metadata": {
  "kernelspec": {
   "display_name": "Python 3",
   "language": "python",
   "name": "python3"
  },
  "language_info": {
   "codemirror_mode": {
    "name": "ipython",
    "version": 3
   },
   "file_extension": ".py",
   "mimetype": "text/x-python",
   "name": "python",
   "nbconvert_exporter": "python",
   "pygments_lexer": "ipython3",
   "version": "3.6.6"
  }
 },
 "nbformat": 4,
 "nbformat_minor": 2
}
